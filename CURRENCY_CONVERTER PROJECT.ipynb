{
 "cells": [
  {
   "cell_type": "code",
   "execution_count": 2,
   "id": "886f6a2a",
   "metadata": {},
   "outputs": [],
   "source": [
    "import tkinter as tk\n",
    "from tkinter import ttk, messagebox\n",
    "import requests\n",
    "\n",
    "# You can use this free API for demonstration purposes\n",
    "API_URL = \"https://api.exchangerate-api.com/v4/latest/{}\"\n",
    "\n",
    "def get_currencies():\n",
    "    \"\"\"Fetch the list of available currencies from the API.\"\"\"\n",
    "    try:\n",
    "        response = requests.get(API_URL.format(\"USD\"))\n",
    "        data = response.json()\n",
    "        return list(data['rates'].keys())\n",
    "    except Exception as e:\n",
    "        messagebox.showerror(\"Error\", f\"Error fetching currency list: {e}\")\n",
    "        return []\n",
    "\n",
    "def convert_currency():\n",
    "    from_curr = from_currency.get()\n",
    "    to_curr = to_currency.get()\n",
    "    amount_val = amount.get()\n",
    "    \n",
    "    if not amount_val:\n",
    "        messagebox.showwarning(\"Input Error\", \"Please enter an amount.\")\n",
    "        return\n",
    "    \n",
    "    try:\n",
    "        amount_val = float(amount_val)\n",
    "    except ValueError:\n",
    "        messagebox.showwarning(\"Input Error\", \"Please enter a valid number.\")\n",
    "        return\n",
    "    \n",
    "    try:\n",
    "        response = requests.get(API_URL.format(from_curr))\n",
    "        data = response.json()\n",
    "        rate = data['rates'][to_curr]\n",
    "        result = amount_val * rate\n",
    "        result_label.config(text=f\"{amount_val:.2f} {from_curr} = {result:.2f} {to_curr}\")\n",
    "    except Exception as e:\n",
    "        messagebox.showerror(\"Error\", f\"Error converting currency: {e}\")\n",
    "\n",
    "# Main Window\n",
    "root = tk.Tk()\n",
    "root.title(\"Currency Converter\")\n",
    "root.geometry(\"400x300\")\n",
    "root.resizable(False, False)\n",
    "root.config(bg=\"#f0f0f0\")\n",
    "\n",
    "# Fetch currency list\n",
    "currencies = get_currencies()\n",
    "if not currencies:\n",
    "    currencies = [\"USD\", \"INR\", \"EUR\", \"GBP\"]\n",
    "\n",
    "# Widgets\n",
    "tk.Label(root, text=\"Currency Converter\", font=(\"Arial\", 18, \"bold\"), bg=\"#f0f0f0\").pack(pady=10)\n",
    "\n",
    "frame = tk.Frame(root, bg=\"#f0f0f0\")\n",
    "frame.pack(pady=10)\n",
    "\n",
    "tk.Label(frame, text=\"From:\", font=(\"Arial\", 12), bg=\"#f0f0f0\").grid(row=0, column=0, padx=5, pady=5)\n",
    "from_currency = ttk.Combobox(frame, values=currencies, width=10)\n",
    "from_currency.set(\"USD\")\n",
    "from_currency.grid(row=0, column=1, padx=5, pady=5)\n",
    "\n",
    "tk.Label(frame, text=\"To:\", font=(\"Arial\", 12), bg=\"#f0f0f0\").grid(row=1, column=0, padx=5, pady=5)\n",
    "to_currency = ttk.Combobox(frame, values=currencies, width=10)\n",
    "to_currency.set(\"INR\")\n",
    "to_currency.grid(row=1, column=1, padx=5, pady=5)\n",
    "\n",
    "tk.Label(frame, text=\"Amount:\", font=(\"Arial\", 12), bg=\"#f0f0f0\").grid(row=2, column=0, padx=5, pady=5)\n",
    "amount = tk.Entry(frame, width=12)\n",
    "amount.grid(row=2, column=1, padx=5, pady=5)\n",
    "\n",
    "convert_btn = tk.Button(root, text=\"Convert\", command=convert_currency, font=(\"Arial\", 12), bg=\"#4CAF50\", fg=\"white\")\n",
    "convert_btn.pack(pady=10)\n",
    "\n",
    "result_label = tk.Label(root, text=\"\", font=(\"Arial\", 14, \"bold\"), bg=\"#f0f0f0\", fg=\"#333\")\n",
    "result_label.pack(pady=10)\n",
    "\n",
    "root.mainloop()\n"
   ]
  },
  {
   "cell_type": "code",
   "execution_count": 1,
   "id": "e712a645",
   "metadata": {},
   "outputs": [
    {
     "name": "stdout",
     "output_type": "stream",
     "text": [
      "Requirement already satisfied: requests in c:\\users\\user\\anaconda3\\lib\\site-packages (2.31.0)\n",
      "Requirement already satisfied: charset-normalizer<4,>=2 in c:\\users\\user\\anaconda3\\lib\\site-packages (from requests) (2.0.4)\n",
      "Requirement already satisfied: idna<4,>=2.5 in c:\\users\\user\\anaconda3\\lib\\site-packages (from requests) (3.4)\n",
      "Requirement already satisfied: urllib3<3,>=1.21.1 in c:\\users\\user\\anaconda3\\lib\\site-packages (from requests) (1.26.16)\n",
      "Requirement already satisfied: certifi>=2017.4.17 in c:\\users\\user\\anaconda3\\lib\\site-packages (from requests) (2023.7.22)\n",
      "Note: you may need to restart the kernel to use updated packages.\n"
     ]
    }
   ],
   "source": [
    "pip install requests"
   ]
  },
  {
   "cell_type": "code",
   "execution_count": null,
   "id": "9f05ca76",
   "metadata": {},
   "outputs": [],
   "source": []
  }
 ],
 "metadata": {
  "kernelspec": {
   "display_name": "Python 3 (ipykernel)",
   "language": "python",
   "name": "python3"
  },
  "language_info": {
   "codemirror_mode": {
    "name": "ipython",
    "version": 3
   },
   "file_extension": ".py",
   "mimetype": "text/x-python",
   "name": "python",
   "nbconvert_exporter": "python",
   "pygments_lexer": "ipython3",
   "version": "3.11.5"
  }
 },
 "nbformat": 4,
 "nbformat_minor": 5
}
